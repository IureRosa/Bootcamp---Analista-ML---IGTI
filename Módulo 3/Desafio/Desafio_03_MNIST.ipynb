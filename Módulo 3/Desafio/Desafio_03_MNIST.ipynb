{
  "nbformat": 4,
  "nbformat_minor": 0,
  "metadata": {
    "kernelspec": {
      "display_name": "Python 3",
      "language": "python",
      "name": "python3"
    },
    "language_info": {
      "codemirror_mode": {
        "name": "ipython",
        "version": 3
      },
      "file_extension": ".py",
      "mimetype": "text/x-python",
      "name": "python",
      "nbconvert_exporter": "python",
      "pygments_lexer": "ipython3",
      "version": "3.7.7"
    },
    "colab": {
      "name": "Desafio_03_MNIST.ipynb",
      "provenance": [],
      "collapsed_sections": [],
      "include_colab_link": true
    }
  },
  "cells": [
    {
      "cell_type": "markdown",
      "metadata": {
        "id": "view-in-github",
        "colab_type": "text"
      },
      "source": [
        "<a href=\"https://colab.research.google.com/github/IureRosa/Bootcamp---Analista-ML---IGTI/blob/master/Módulo 3/Desafio/Desafio_03_MNIST.ipynb\" target=\"_parent\"><img src=\"https://colab.research.google.com/assets/colab-badge.svg\" alt=\"Open In Colab\"/></a>"
      ]
    },
    {
      "cell_type": "markdown",
      "metadata": {
        "id": "aRgPTAN9qwns"
      },
      "source": [
        "# Desafio - IGTI - Modulo 03 - MNIST\n",
        "- Autor: Iure Rosa Lima de Oliveira\n",
        "- LinkedIn: https://www.linkedin.com/in/iure-rosa/"
      ]
    },
    {
      "cell_type": "markdown",
      "metadata": {
        "id": "QDlqkL5Hqwnt"
      },
      "source": [
        "## Descrição do Problema"
      ]
    },
    {
      "cell_type": "markdown",
      "metadata": {
        "id": "qWAMuSRcqwnt"
      },
      "source": [
        "**A base de dados MNIST**\n",
        "\n",
        "Um dos mais clássicos conjuntos de dados para o treinamento e benchmark de algoritmos de classificação é o MNIST. Ele é composto por 70.000 imagens (60 mil de treino, 10 mil de teste) de números de 0 a 9 escritos à mão, já previamente classificados. Os números são sempre apresentados individualmente.\n",
        "\n",
        "![title](https://github.com/RodrigoLima82/bootcamp_igti_machine_learning/blob/master/Modulo_03/Desafio/image.png?raw=1)\n",
        "\n",
        "Suponha que você trabalha em uma empresa que faz a leitura automática (OCR) de formulários e cheques para instituições financeiras, e que a você foi atribuído o trabalho de desenvolver um programa que faça a leitura de números escritos à mão nesses documentos. Um tratamento prévio das imagens já entrega a você os números individualmente em imagens de resolução similar.\n",
        "\n",
        "Cabe a você usar o aprendizado de máquina para ler cada imagem e dizer, com margem de segurança alta, qual número foi escrito ali. Por falta de dados de teste, você usará o MNIST para treinar o seu algoritmo. Se seu algoritmo não tiver resultados excelentes, os números serão enviados para leitura e digitação manual, feita por operadores humanos, uma operação cara e pouco escalável.\n",
        "\n",
        "**Referências:**\n",
        "\n",
        "MNIST: http://yann.lecun.com/exdb/mnist/ (acesso em 09/06/2020)\n",
        "\n",
        "Imagem: http://blog.welcomege.com/mnist-database/ (acesso em 29/04/2018)"
      ]
    },
    {
      "cell_type": "markdown",
      "metadata": {
        "id": "FhuDelN0qwnu"
      },
      "source": [
        "## Carregando as bibliotecas"
      ]
    },
    {
      "cell_type": "code",
      "metadata": {
        "_cell_guid": "b1076dfc-b9ad-4769-8c92-a6c4dae69d19",
        "_uuid": "8f2839f25d086af736a60e9eeb907d3b93b6e0e5",
        "id": "EGdD8BmMqwnv",
        "colab": {
          "base_uri": "https://localhost:8080/",
          "height": 34
        },
        "outputId": "02ebc460-384f-4278-ab86-bfe2827fb028"
      },
      "source": [
        "# Imports de avisos\n",
        "import sys\n",
        "import warnings\n",
        "import matplotlib.cbook\n",
        "if not sys.warnoptions:\n",
        "    warnings.simplefilter(\"ignore\")\n",
        "warnings.simplefilter(action='ignore', category=FutureWarning)\n",
        "warnings.filterwarnings(\"ignore\", category=FutureWarning)\n",
        "warnings.filterwarnings(\"ignore\", category=matplotlib.cbook.mplDeprecation)\n",
        "\n",
        "# Imports para manipulacao de dados\n",
        "import pandas as pd\n",
        "import numpy as np\n",
        "\n",
        "# Import para visualizacao dos dados\n",
        "import matplotlib.pyplot as plt\n",
        "from matplotlib import pyplot\n",
        "from sklearn.metrics import confusion_matrix\n",
        "import itertools\n",
        "\n",
        "# Imports de bibliotecas para treinamento de redes neurais convolucionais\n",
        "import tensorflow as tf\n",
        "#from tensorflow.keras import layers\n",
        "from keras.preprocessing.image import ImageDataGenerator\n",
        "from keras.callbacks import ReduceLROnPlateau\n",
        "\n",
        "from keras.utils.np_utils import to_categorical\n",
        "from keras.models import Sequential\n",
        "from keras.layers import Dense, Dropout, Flatten, Conv2D, MaxPool2D\n",
        "from keras.optimizers import RMSprop\n",
        "from keras.preprocessing.image import ImageDataGenerator\n",
        "from keras.callbacks import ReduceLROnPlateau\n"
      ],
      "execution_count": null,
      "outputs": [
        {
          "output_type": "stream",
          "text": [
            "Using TensorFlow backend.\n"
          ],
          "name": "stderr"
        }
      ]
    },
    {
      "cell_type": "code",
      "metadata": {
        "id": "K3EDIWo7qwnz",
        "colab": {
          "base_uri": "https://localhost:8080/",
          "height": 354
        },
        "outputId": "1e4989b5-816d-426e-d638-112a9ffe0bc1"
      },
      "source": [
        "# Caso aparece um erro do pacote nao instalado, executar o comando abaixo\n",
        "!pip install watermark\n",
        "\n",
        "# Versões dos pacotes usados neste jupyter notebook\n",
        "%reload_ext watermark\n",
        "%watermark -a \"Desafio - Modulo 03 - Rodrigo\" --iversions"
      ],
      "execution_count": null,
      "outputs": [
        {
          "output_type": "stream",
          "text": [
            "Requirement already satisfied: watermark in /usr/local/lib/python3.6/dist-packages (2.0.2)\n",
            "Requirement already satisfied: ipython in /usr/local/lib/python3.6/dist-packages (from watermark) (5.5.0)\n",
            "Requirement already satisfied: pygments in /usr/local/lib/python3.6/dist-packages (from ipython->watermark) (2.1.3)\n",
            "Requirement already satisfied: traitlets>=4.2 in /usr/local/lib/python3.6/dist-packages (from ipython->watermark) (4.3.3)\n",
            "Requirement already satisfied: prompt-toolkit<2.0.0,>=1.0.4 in /usr/local/lib/python3.6/dist-packages (from ipython->watermark) (1.0.18)\n",
            "Requirement already satisfied: pexpect; sys_platform != \"win32\" in /usr/local/lib/python3.6/dist-packages (from ipython->watermark) (4.8.0)\n",
            "Requirement already satisfied: pickleshare in /usr/local/lib/python3.6/dist-packages (from ipython->watermark) (0.7.5)\n",
            "Requirement already satisfied: setuptools>=18.5 in /usr/local/lib/python3.6/dist-packages (from ipython->watermark) (47.3.1)\n",
            "Requirement already satisfied: simplegeneric>0.8 in /usr/local/lib/python3.6/dist-packages (from ipython->watermark) (0.8.1)\n",
            "Requirement already satisfied: decorator in /usr/local/lib/python3.6/dist-packages (from ipython->watermark) (4.4.2)\n",
            "Requirement already satisfied: ipython-genutils in /usr/local/lib/python3.6/dist-packages (from traitlets>=4.2->ipython->watermark) (0.2.0)\n",
            "Requirement already satisfied: six in /usr/local/lib/python3.6/dist-packages (from traitlets>=4.2->ipython->watermark) (1.12.0)\n",
            "Requirement already satisfied: wcwidth in /usr/local/lib/python3.6/dist-packages (from prompt-toolkit<2.0.0,>=1.0.4->ipython->watermark) (0.2.4)\n",
            "Requirement already satisfied: ptyprocess>=0.5 in /usr/local/lib/python3.6/dist-packages (from pexpect; sys_platform != \"win32\"->ipython->watermark) (0.6.0)\n",
            "tensorflow 2.2.0\n",
            "pandas     1.0.4\n",
            "numpy      1.18.5\n",
            "matplotlib 3.2.1\n",
            "Desafio - Modulo 03 - Rodrigo\n"
          ],
          "name": "stdout"
        }
      ]
    },
    {
      "cell_type": "markdown",
      "metadata": {
        "id": "R1u4Js3bqwn2"
      },
      "source": [
        "## Carregar os dados"
      ]
    },
    {
      "cell_type": "code",
      "metadata": {
        "id": "ssYlJP6IrpKA",
        "colab": {
          "base_uri": "https://localhost:8080/",
          "height": 70
        },
        "outputId": "7463fe73-22f2-475f-d06d-ae7cb960ca25"
      },
      "source": [
        "# Carregando o dataset com imagens do MNIST direto do pacote do Tensorflow\n",
        "(X_train, y_train), (X_test, y_test) = tf.keras.datasets.mnist.load_data(path=\"mnist.npz\")\n",
        "\n",
        "# Colocando os dados na mesma escala [0, 1]\n",
        "X_train = X_train.astype(\"float32\") / 255\n",
        "X_test  = X_test.astype(\"float32\") / 255\n",
        "\n",
        "# Realizando o redimensionamento para (28, 28, 1)\n",
        "X_train = np.expand_dims(X_train, -1)\n",
        "X_test  = np.expand_dims(X_test, -1)\n",
        "\n",
        "print(\"X_train shape:\", X_train.shape)\n",
        "print(X_train.shape[0], \" exemplos para treinamento\")\n",
        "print(X_test.shape[0], \" exemplos para teste\")\n",
        "\n",
        "# Convertendo o target para uma matriz de classes (0 a 9)\n",
        "num_classes = 10\n",
        "y_train = to_categorical(y_train, num_classes)\n",
        "y_test  = to_categorical(y_test, num_classes)"
      ],
      "execution_count": null,
      "outputs": [
        {
          "output_type": "stream",
          "text": [
            "X_train shape: (60000, 28, 28, 1)\n",
            "60000  exemplos para treinamento\n",
            "10000  exemplos para teste\n"
          ],
          "name": "stdout"
        }
      ]
    },
    {
      "cell_type": "markdown",
      "metadata": {
        "id": "R_xh6eW_qwn5"
      },
      "source": [
        "## Criação e Validação dos Modelos de Machine Learning"
      ]
    },
    {
      "cell_type": "markdown",
      "metadata": {
        "id": "b6kh0I_2qwn6"
      },
      "source": [
        "### Convolutional Neural Network"
      ]
    },
    {
      "cell_type": "code",
      "metadata": {
        "id": "liJAzQtXqwoE",
        "colab": {
          "base_uri": "https://localhost:8080/",
          "height": 585
        },
        "outputId": "66223916-f022-4d9a-bc8c-b2819c364159"
      },
      "source": [
        "# Parametros do modelo\n",
        "input_shape = (28, 28, 1)\n",
        "batch_size  = 128\n",
        "epochs      = 15\n",
        "\n",
        "# Definicao da estrutura do modelo\n",
        "model_cnn = Sequential()\n",
        "model_cnn.add(Conv2D(filters = 32, kernel_size = (5,5),padding = 'Same', activation ='relu', input_shape = (28,28,1)))\n",
        "model_cnn.add(Conv2D(filters = 32, kernel_size = (5,5),padding = 'Same', activation ='relu'))\n",
        "model_cnn.add(MaxPool2D(pool_size=(2,2)))\n",
        "model_cnn.add(Dropout(0.25))\n",
        "\n",
        "model_cnn.add(Conv2D(filters = 64, kernel_size = (3,3),padding = 'Same', activation ='relu'))\n",
        "model_cnn.add(Conv2D(filters = 64, kernel_size = (3,3),padding = 'Same', activation ='relu'))\n",
        "model_cnn.add(MaxPool2D(pool_size=(2,2), strides=(2,2)))\n",
        "model_cnn.add(Dropout(0.25))\n",
        "\n",
        "model_cnn.add(Flatten())\n",
        "model_cnn.add(Dense(256, activation = \"relu\"))\n",
        "model_cnn.add(Dropout(0.5))\n",
        "model_cnn.add(Dense(10, activation = \"softmax\"))\n",
        "\n",
        "# Instanciando a funcao de perda e a metrica de desempenho\n",
        "model_cnn.compile(loss=\"categorical_crossentropy\", optimizer=\"adam\", metrics=[\"accuracy\"])\n",
        "\n",
        "# Exibindo o resumo\n",
        "model_cnn.summary()"
      ],
      "execution_count": null,
      "outputs": [
        {
          "output_type": "stream",
          "text": [
            "Model: \"sequential_1\"\n",
            "_________________________________________________________________\n",
            "Layer (type)                 Output Shape              Param #   \n",
            "=================================================================\n",
            "conv2d_1 (Conv2D)            (None, 28, 28, 32)        832       \n",
            "_________________________________________________________________\n",
            "conv2d_2 (Conv2D)            (None, 28, 28, 32)        25632     \n",
            "_________________________________________________________________\n",
            "max_pooling2d_1 (MaxPooling2 (None, 14, 14, 32)        0         \n",
            "_________________________________________________________________\n",
            "dropout_1 (Dropout)          (None, 14, 14, 32)        0         \n",
            "_________________________________________________________________\n",
            "conv2d_3 (Conv2D)            (None, 14, 14, 64)        18496     \n",
            "_________________________________________________________________\n",
            "conv2d_4 (Conv2D)            (None, 14, 14, 64)        36928     \n",
            "_________________________________________________________________\n",
            "max_pooling2d_2 (MaxPooling2 (None, 7, 7, 64)          0         \n",
            "_________________________________________________________________\n",
            "dropout_2 (Dropout)          (None, 7, 7, 64)          0         \n",
            "_________________________________________________________________\n",
            "flatten_1 (Flatten)          (None, 3136)              0         \n",
            "_________________________________________________________________\n",
            "dense_1 (Dense)              (None, 256)               803072    \n",
            "_________________________________________________________________\n",
            "dropout_3 (Dropout)          (None, 256)               0         \n",
            "_________________________________________________________________\n",
            "dense_2 (Dense)              (None, 10)                2570      \n",
            "=================================================================\n",
            "Total params: 887,530\n",
            "Trainable params: 887,530\n",
            "Non-trainable params: 0\n",
            "_________________________________________________________________\n"
          ],
          "name": "stdout"
        }
      ]
    },
    {
      "cell_type": "code",
      "metadata": {
        "id": "KKCrlXRWqwoH",
        "colab": {
          "base_uri": "https://localhost:8080/",
          "height": 585
        },
        "outputId": "5602bf61-a160-4fc0-bd2d-e31d435286ed"
      },
      "source": [
        "# Realizando o treinamento do modelo CNN\n",
        "model_cnn.fit(X_train, y_train, batch_size=batch_size, epochs=epochs, validation_split=0.1)"
      ],
      "execution_count": null,
      "outputs": [
        {
          "output_type": "stream",
          "text": [
            "Train on 54000 samples, validate on 6000 samples\n",
            "Epoch 1/15\n",
            "54000/54000 [==============================] - 360s 7ms/step - loss: 0.0606 - accuracy: 0.9816 - val_loss: 0.0293 - val_accuracy: 0.9917\n",
            "Epoch 2/15\n",
            "54000/54000 [==============================] - 354s 7ms/step - loss: 0.0441 - accuracy: 0.9868 - val_loss: 0.0259 - val_accuracy: 0.9927\n",
            "Epoch 3/15\n",
            "54000/54000 [==============================] - 359s 7ms/step - loss: 0.0396 - accuracy: 0.9877 - val_loss: 0.0283 - val_accuracy: 0.9922\n",
            "Epoch 4/15\n",
            "54000/54000 [==============================] - 354s 7ms/step - loss: 0.0347 - accuracy: 0.9896 - val_loss: 0.0218 - val_accuracy: 0.9943\n",
            "Epoch 5/15\n",
            "54000/54000 [==============================] - 363s 7ms/step - loss: 0.0319 - accuracy: 0.9904 - val_loss: 0.0264 - val_accuracy: 0.9932\n",
            "Epoch 6/15\n",
            "54000/54000 [==============================] - 354s 7ms/step - loss: 0.0275 - accuracy: 0.9919 - val_loss: 0.0215 - val_accuracy: 0.9952\n",
            "Epoch 7/15\n",
            "54000/54000 [==============================] - 358s 7ms/step - loss: 0.0248 - accuracy: 0.9922 - val_loss: 0.0260 - val_accuracy: 0.9943\n",
            "Epoch 8/15\n",
            "54000/54000 [==============================] - 354s 7ms/step - loss: 0.0219 - accuracy: 0.9934 - val_loss: 0.0205 - val_accuracy: 0.9947\n",
            "Epoch 9/15\n",
            "54000/54000 [==============================] - 349s 6ms/step - loss: 0.0206 - accuracy: 0.9932 - val_loss: 0.0271 - val_accuracy: 0.9935\n",
            "Epoch 10/15\n",
            "54000/54000 [==============================] - 349s 6ms/step - loss: 0.0205 - accuracy: 0.9933 - val_loss: 0.0295 - val_accuracy: 0.9945\n",
            "Epoch 11/15\n",
            "54000/54000 [==============================] - 349s 6ms/step - loss: 0.0210 - accuracy: 0.9931 - val_loss: 0.0240 - val_accuracy: 0.9952\n",
            "Epoch 12/15\n",
            "54000/54000 [==============================] - 349s 6ms/step - loss: 0.0166 - accuracy: 0.9944 - val_loss: 0.0243 - val_accuracy: 0.9950\n",
            "Epoch 13/15\n",
            "54000/54000 [==============================] - 350s 6ms/step - loss: 0.0167 - accuracy: 0.9945 - val_loss: 0.0252 - val_accuracy: 0.9948\n",
            "Epoch 14/15\n",
            "54000/54000 [==============================] - 365s 7ms/step - loss: 0.0156 - accuracy: 0.9948 - val_loss: 0.0261 - val_accuracy: 0.9953\n",
            "Epoch 15/15\n",
            "54000/54000 [==============================] - 356s 7ms/step - loss: 0.0150 - accuracy: 0.9952 - val_loss: 0.0292 - val_accuracy: 0.9935\n"
          ],
          "name": "stdout"
        },
        {
          "output_type": "execute_result",
          "data": {
            "text/plain": [
              "<keras.callbacks.callbacks.History at 0x7f0b7ab0fda0>"
            ]
          },
          "metadata": {
            "tags": []
          },
          "execution_count": 10
        }
      ]
    },
    {
      "cell_type": "code",
      "metadata": {
        "id": "tK0LRugAwR8Z",
        "colab": {
          "base_uri": "https://localhost:8080/",
          "height": 52
        },
        "outputId": "3e22058c-5c0a-4eae-b7cd-f169b4ee9dec"
      },
      "source": [
        "# Avaliando o desempenho do modelo CNN com dados de teste\n",
        "score = model_cnn.evaluate(X_test, y_test, verbose=0)\n",
        "print(\"Test loss:\", score[0])\n",
        "print(\"Test accuracy:\", score[1])"
      ],
      "execution_count": null,
      "outputs": [
        {
          "output_type": "stream",
          "text": [
            "Test loss: 0.021437651656303916\n",
            "Test accuracy: 0.9941999912261963\n"
          ],
          "name": "stdout"
        }
      ]
    },
    {
      "cell_type": "code",
      "metadata": {
        "id": "Ddta_7C6xyCq",
        "colab": {
          "base_uri": "https://localhost:8080/",
          "height": 311
        },
        "outputId": "004c04d9-f01c-411b-edd8-a7ce49a62cfc"
      },
      "source": [
        "# Plot da Confusion Matrix\n",
        "def plot_confusion_matrix(cm, classes, normalize=False, title='Confusion Matrix', cmap=plt.cm.Blues):\n",
        "    \"\"\"\n",
        "    This function prints and plots the confusion matrix.\n",
        "    Normalization can be applied by setting `normalize=True`.\n",
        "    \"\"\"\n",
        "    plt.imshow(cm, interpolation='nearest', cmap=cmap)\n",
        "    plt.title(title)\n",
        "    plt.colorbar()\n",
        "    tick_marks = np.arange(len(classes))\n",
        "    plt.xticks(tick_marks, classes, rotation=45)\n",
        "    plt.yticks(tick_marks, classes)\n",
        "\n",
        "    if normalize:\n",
        "        cm = cm.astype('float') / cm.sum(axis=1)[:, np.newaxis]\n",
        "\n",
        "    thresh = cm.max() / 2.\n",
        "    for i, j in itertools.product(range(cm.shape[0]), range(cm.shape[1])):\n",
        "        plt.text(j, i, cm[i, j],\n",
        "                 horizontalalignment=\"center\",\n",
        "                 color=\"white\" if cm[i, j] > thresh else \"black\")\n",
        "\n",
        "    plt.tight_layout()\n",
        "    plt.ylabel('True label')\n",
        "    plt.xlabel('Predicted label')\n",
        "\n",
        "# Realiza as previsoes com o dataset de teste\n",
        "y_pred = model_cnn.predict(X_test)\n",
        "\n",
        "# Converte as previsoes em vetores one hot\n",
        "y_pred_classes = np.argmax(y_pred, axis = 1) \n",
        "\n",
        "# Converte as observacoes em vetores one hot\n",
        "y_true = np.argmax(y_test, axis = 1) \n",
        "\n",
        "# Executa a matriz de confusao\n",
        "confusion_mtx = confusion_matrix(y_true, y_pred_classes) \n",
        "\n",
        "# Exibindo a matriz de confusao\n",
        "plot_confusion_matrix(confusion_mtx, classes = range(10)) "
      ],
      "execution_count": null,
      "outputs": [
        {
          "output_type": "display_data",
          "data": {
            "image/png": "[encoded data removed]",
            "text/plain": [
              "<Figure size 432x288 with 2 Axes>"
            ]
          },
          "metadata": {
            "tags": [],
            "needs_background": "light"
          }
        }
      ]
    },
    {
      "cell_type": "markdown",
      "metadata": {
        "id": "oa0CqbVdzG8m"
      },
      "source": [
        "### Convolutional Neural Network Otimizada"
      ]
    },
    {
      "cell_type": "code",
      "metadata": {
        "id": "yu7XRROo0BTd"
      },
      "source": [
        "# Configurando a reducao automatica da taxa de aprendizado\n",
        "learning_rate_reduction = ReduceLROnPlateau(monitor  = 'val_acc', \n",
        "                                            patience = 3, \n",
        "                                            verbose  = 1, \n",
        "                                            factor   = 0.5, \n",
        "                                            min_lr   = 0.00001)"
      ],
      "execution_count": null,
      "outputs": []
    },
    {
      "cell_type": "code",
      "metadata": {
        "id": "9yxmdxTozHm9"
      },
      "source": [
        "# Gerando novos dados com a técnica 'data augmentation'\n",
        "datagen = ImageDataGenerator(featurewise_center            = False,\n",
        "                             samplewise_center             = False,\n",
        "                             featurewise_std_normalization = False,\n",
        "                             samplewise_std_normalization  = False,\n",
        "                             zca_whitening                 = False,\n",
        "                             rotation_range                = 10,\n",
        "                             zoom_range                    = 0.1,\n",
        "                             width_shift_range             = 0.1,\n",
        "                             height_shift_range            = 0.1,\n",
        "                             horizontal_flip               = False,\n",
        "                             vertical_flip                 = False)\n",
        "\n",
        "datagen.fit(X_train)"
      ],
      "execution_count": null,
      "outputs": []
    },
    {
      "cell_type": "code",
      "metadata": {
        "id": "N3TG7-szztH0",
        "colab": {
          "base_uri": "https://localhost:8080/",
          "height": 34
        },
        "outputId": "7c0a0480-0322-4535-c920-6e1d615b6601"
      },
      "source": [
        "# Observacao: esta célula demora muito para ser executada\n",
        "# Recomendo rodar esse otimizador em um computador com GPU\n",
        "\n",
        "#epochs = 30\n",
        "\n",
        "# Treinamento do modelo otimizado\n",
        "#history = model_cnn.fit_generator(datagen.flow(X_train,y_train, batch_size=batch_size),\n",
        "#                                  epochs = epochs, \n",
        "#                                  validation_data = (X_test, y_test),\n",
        "#                                  verbose = 2, \n",
        "#                                  steps_per_epoch = X_train.shape[0],\n",
        "#                                  callbacks=[learning_rate_reduction])"
      ],
      "execution_count": null,
      "outputs": [
        {
          "output_type": "stream",
          "text": [
            "Epoch 1/1\n"
          ],
          "name": "stdout"
        }
      ]
    },
    {
      "cell_type": "code",
      "metadata": {
        "id": "MRy9PajQAZ7j"
      },
      "source": [
        ""
      ],
      "execution_count": null,
      "outputs": []
    },
    {
      "cell_type": "markdown",
      "metadata": {
        "id": "uD7zNQIm2lQt"
      },
      "source": [
        "## Questionário"
      ]
    },
    {
      "cell_type": "markdown",
      "metadata": {
        "id": "YuqPH7bq2lBY"
      },
      "source": [
        "**Pergunta 01:** Qual métrica de qualidade você considera a mais importante para medir o desempenho do seu algoritmo de classificação?\n",
        "\n",
        "- Acurácia - erros diferentes tem peso igual\n",
        "- Recall - não podemos deixar de classificar nenhum número\n",
        "- **Precisão - falsos positivos são inaceitáveis**\n",
        "- F-Score - entre recall e f-score há igual importância\n",
        " \n",
        "**Pergunta 02:** Suponha que seu contratante lhe deu 5000 exemplos de números que seu programa terá que classificar. Os exemplos, no entanto, não foram classificados previamente. Que tipo de algoritmo você usaria para gerar um modelo para essa base de dados?\n",
        "\n",
        "- **Agrupamento**\n",
        "- Classificação single label\n",
        "- Regressão\n",
        "- Classificação multi label\n",
        " \n",
        "**Pergunta 03:** Suponha que você gerou uma curva de validação para testar o desempenho do seu algoritmo. Na curva, você comparou o desempenho do seu modelo com o desempenho do algoritmo na validação cruzada. O resultado exibiu a sua curva acima da curva da validação cruzada, ou seja, com desempenho bem melhor, e as curvas não convergiram. O que isso significa?\n",
        "\n",
        "- Baixa variância\n",
        "- O modelo está bom para ir para produção\n",
        "- Underfitting\n",
        "- **Overfitting**\n",
        " \n",
        "**Pergunta 04:** Para este tipo de problema, seu contratante te diz que é preferível que o algoritmo “erre sempre da mesma maneira” do que ele “erre de maneira errática”. Isso se dá porque, na etapa de conferência manual dos resultados incorretos, erros “previsíveis” são corrigidos  de forma mais barata. Que característica seria desejável seu algoritmo ter para que ele tivesse esse tipo de comportamento?\n",
        "\n",
        "- Alta tendência e alta variância\n",
        "- **Alta tendência e baixa variância**\n",
        "- Baixa tendência e alta variância\n",
        "- Baixa tendência e baixa variância\n",
        " \n",
        "**Pergunta 05:** Suponha que, após um ano com o seu algoritmo em execução, você perceba que os valores dos cheques tendem a ter magnitudes diferentes em diferentes épocas do ano. No final do ano, por exemplo, o normal é a maior parte dos cheques ter seis ou oito dígitos, considerando os centavos, enquanto no meio do ano a quantidade de dígitos é um tanto menor. Se você souber dessa tendência com antecedência, sua empresa poderá ajustar a etapa de conferência manual de dígitos errados, gerando economia de custos.\n",
        "\n",
        "Assim, você coleta de dados de “quantidade média de dígitos nos valores dos cheques” por “mês/ano”. Que técnica de aprendizado de máquina você usaria para tentar analisar esse comportamento e fazer previsões acerca dos meses futuros?\n",
        "\n",
        "- F-Score\n",
        "- **Erro mediano absoluto**\n",
        "- Acurácia\n",
        "- Erro médio quadrático\n",
        " \n",
        "**Pergunta 06:** Suponha que seu cliente te enviou 2100 números classificados previamente para alimentar o treino do seu algoritmo. Você gera seu modelo. Um tempo depois, seu cliente pergunta se você precisa de mais dados. A obtenção desses dados acarretará em custos maiores, portanto não deve ser feita a não ser que vá trazer benefícios reais para seu algoritmo. Como você poderia descobrir se vale a pena trazer mais dados para o seu algoritmo?\n",
        "\n",
        "- **Usando curvas de aprendizado**\n",
        "- Usando validação cruzada\n",
        "- Usando otimização de hiperparâmetros\n",
        "- Nenhuma alternativa é a correta\n",
        " \n",
        "**Pergunta 07:** A técnica de validação cruzada “deixar P elementos de fora”, para o problema sob análise, seria uma boa escolha? Justifique sua resposta.\n",
        "\n",
        "- Sim - ela é a mais precisa e, portanto, vai nos dar maior confiabilidade\n",
        "- Não - ela não trará resultados melhores que a K-Grupos.\n",
        "- Sim - ela é a mais adequada para modelos de classificação\n",
        "- **Não - ela é computacionalmente cara demais para ser viável**\n",
        " \n",
        "**Pergunta 08:** Suponha que, num agrupamento para aquele conjunto de dados, teve-se valor elevado de entropia. O que isso melhor quer dizer em relação às imagens usadas no treino?\n",
        "\n",
        "- Precisamos, necessariamente, de mais imagens.\n",
        "- **As imagens estão se confundido umas com a outras. 1 com 7, por exemplo.**\n",
        "- O modelo está com desempenho inaceitável para as imagens escolhidas\n",
        "- As imagens estão bem separadas e o modelo está bom para ir para produção\n",
        " \n",
        "**Pergunta 09:** Suponha que você tenha usado um classificador multilabel para resolver o seu problema. Marque a alternativa correta.\n",
        "\n",
        "- A perda de hamming é a métrica de qualidade mais adequada aqui.\n",
        "- Não é possível modelar o problema como um classificador multilabel, pois só há dois resultados possíveis: cheque correto (positivo) e cheque errado (negativo)\n",
        "- **A perda 0-1 é a métrica de qualidade mais adequada aqui.**\n",
        "- Ambas a perda 0-1 e a perda de hamming são igualmente adequadas para resolver o problema.\n",
        " \n",
        "**Pergunta 10:** Qual técnica de validação cruzada você usaria para resolver o seu problema?\n",
        "\n",
        "- A divisão de treino e teste - nessa escala de problema, é a única viável\n",
        "- Deixar P elementos de fora - ela é a mais precisa e, portanto, vai nos dar maior confiabilidade\n",
        "- A divisão de treino e teste - a perda de dados é aceitável para esse problema\n",
        "- **A validação cruzada em k-grupos - é boa mas não é tão cara computacionalmente**\n",
        " \n",
        "**Pergunta 11:** Considere a seguinte matriz de confusão de um teste para as classificações dos números 1 a 4. São 300 exemplos de cada número.\n",
        "Calcule a acurácia para cada número\n",
        "\n",
        "![title](https://github.com/RodrigoLima82/bootcamp_igti_machine_learning/blob/master/Modulo_03/Desafio/pergunta11.png?raw=1)\n",
        "\n",
        "- Para 1 a 4, respectivamente: 0.834, 0.758, 0.817, 0.9084\n",
        "- Para 1 a 4, respectivamente: 0.9584, 0.758, 0.723, 0.814\n",
        "- Para 1 a 4, respectivamente: 0.758, 0.912, 0.817, 0.834\n",
        "- **Para 1 a 4, respectivamente: 0.9084, 0.758, 0.817, 0.834**\n",
        " \n",
        "**Pergunta 12:** Considere a seguinte matriz de confusão de um teste para as classificações dos números 1 a 4. São 300 exemplos de cada número.\n",
        "Calcule a precisão para cada número.\n",
        "\n",
        "![title](https://github.com/RodrigoLima82/bootcamp_igti_machine_learning/blob/master/Modulo_03/Desafio/pergunta12.png?raw=1)\n",
        "\n",
        "- Para 1 a 4, respectivamente: 0.80, 0.42, 0.625, 0.86\n",
        "- Para 1 a 4, respectivamente: 0.85, 0.42, 0.625, 0.656\n",
        "- **Para 1 a 4, respectivamente: 0.85, 0.52, 0.625, 0.656**\n",
        "- Para 1 a 4, respectivamente: 0.80, 0.52, 0.625, 0.86\n",
        " \n",
        "**Pergunta 13:** Considere a seguinte matriz de confusão de um teste para as classificações dos números 1 a 4. São 300 exemplos de cada número.\n",
        "Calcule o recall para cada número.\n",
        "\n",
        "![title](https://github.com/RodrigoLima82/bootcamp_igti_machine_learning/blob/master/Modulo_03/Desafio/pergunta13.png?raw=1)\n",
        "\n",
        "- Para 1 a 4, respectivamente: 0.77, 0.55, 0.66, 0.60\n",
        "- Para 1 a 4, respectivamente: 0.72, 0.55, 0.66, 0.60\n",
        "- **Para 1 a 4, respectivamente: 0.77, 0.50, 0.66, 0.70**\n",
        "- Para 1 a 4, respectivamente: 0.72, 0.50, 0.66, 0.70\n",
        " \n",
        "**Pergunta 14:** Na técnica de validação cruzada “divisão 70-30”\n",
        "\n",
        "- A divisão dos dados deve ser, sempre, 30% para treino e 70% para teste.\n",
        "- A divisão dos dados deve ser, sempre, 70% para treino e 30% para teste.\n",
        "- **Não há regra sobre qual proporção dos dados deve ir para treino e teste.**\n",
        "- Nenhuma das alternativas está correta.\n",
        " \n",
        "**Pergunta 15:** O problema descrito melhor se classifica como um problema de…\n",
        "\n",
        "- Classificação multi label\n",
        "- Classificação single label\n",
        "- Regressão\n",
        "- **Classificação single ou multi label, a depender da modelagem**"
      ]
    },
    {
      "cell_type": "code",
      "metadata": {
        "id": "QC_iwxhL0a-V"
      },
      "source": [
        ""
      ],
      "execution_count": null,
      "outputs": []
    }
  ]
}
