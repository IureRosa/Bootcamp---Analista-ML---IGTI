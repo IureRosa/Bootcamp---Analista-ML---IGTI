{
  "nbformat": 4,
  "nbformat_minor": 0,
  "metadata": {
    "kernelspec": {
      "display_name": "Python 3",
      "language": "python",
      "name": "python3"
    },
    "language_info": {
      "codemirror_mode": {
        "name": "ipython",
        "version": 3
      },
      "file_extension": ".py",
      "mimetype": "text/x-python",
      "name": "python",
      "nbconvert_exporter": "python",
      "pygments_lexer": "ipython3",
      "version": "3.7.7"
    },
    "colab": {
      "name": "trabalho_pratico_modulo_03.ipynb",
      "provenance": [],
      "collapsed_sections": []
    }
  },
  "cells": [
    {
      "cell_type": "markdown",
      "metadata": {
        "id": "M07dU_uskORI"
      },
      "source": [
        "# Trabalho Pratico - IGTI - Modulo 03 - IRIS\n",
        "- Autor: Iure Rosa Lima de Oliveira\n",
        "- LinkedIn: https://www.linkedin.com/in/iure-rosa/"
      ]
    },
    {
      "cell_type": "markdown",
      "metadata": {
        "id": "kFuQO0EbkORJ"
      },
      "source": [
        "## Descrição do Problema"
      ]
    },
    {
      "cell_type": "markdown",
      "metadata": {
        "id": "7Hl0owJhkORJ"
      },
      "source": [
        "- Trabalho Final - O dataset IRIS\n",
        "- Amostras por classe: 50\n",
        "- Dimensionalidade: 4\n",
        "- Tipo das features: Números reais positivos\n",
        "\n",
        "O conjunto de dados **IRIS** talvez seja o mais clássico dos conjuntos de testes de algoritmos de classificação. Ele divide amostras de plantas em três espécies diferentes e tem, como features, a altura e largura de duas partes da planta: a sépala e as pétalas. Neste trabalho você deve classificar esse conjunto de dados com pelo menos dois algoritmos. Você deverá analisá-los segundo as métricas de qualidade que julgar relevantes, e utilizar técnicas de busca de hiperparâmetros e validação cruzada para tornar seus resultados mais robustos.\n",
        "\n",
        "Fonte: http://scikit-learn.org/stable/modules/generated/sklearn.datasets.load_iris.html\n",
        "\n",
        "**Observação:** gerar gráficos que expliquem e ilustrem o seu problema não é parte obrigatória da resolução do trabalho, mas é um treino bastante recomendado. Além disso, será necessário consultar a documentação do scikit-learn para fazer esse trabalho. Busque por “algoritmos de classificação” e pelos códigos mostrados durante as aulas interativas. Saber consultar documentações é uma habilidade importante de quem trabalha com Aprendizado de Máquina, e é isso que pretendemos desenvolver aqui!"
      ]
    },
    {
      "cell_type": "markdown",
      "metadata": {
        "id": "W_3wF5YwkORJ"
      },
      "source": [
        "## Carregando as bibliotecas"
      ]
    },
    {
      "cell_type": "code",
      "metadata": {
        "id": "WNpMd8I_kORJ"
      },
      "source": [
        "# Imports de avisos\n",
        "import sys\n",
        "import warnings\n",
        "import matplotlib.cbook\n",
        "if not sys.warnoptions:\n",
        "    warnings.simplefilter(\"ignore\")\n",
        "warnings.simplefilter(action='ignore', category=FutureWarning)\n",
        "warnings.filterwarnings(\"ignore\", category=FutureWarning)\n",
        "warnings.filterwarnings(\"ignore\", category=matplotlib.cbook.mplDeprecation)\n",
        "\n",
        "# Imports para manipulação de dados\n",
        "import numpy as np\n",
        "import pandas as pd\n",
        "\n",
        "# Importando o dataset iris\n",
        "from sklearn import datasets\n",
        "\n",
        "# Imports para visualização de dados\n",
        "import matplotlib.pyplot as plt\n",
        "import matplotlib as m\n",
        "import matplotlib.dates as mdates\n",
        "from matplotlib.ticker import MaxNLocator\n",
        "import seaborn as sns\n",
        "import plotly as py\n",
        "import plotly.express as px\n",
        "import plotly.graph_objs as go \n",
        "from plotly.offline import download_plotlyjs, init_notebook_mode, plot, iplot\n",
        "from IPython.core.interactiveshell import InteractiveShell\n",
        "InteractiveShell.ast_node_interactivity = \"all\"\n",
        "pd.options.display.max_columns = 2000\n",
        "pd.options.display.max_rows = 2000"
      ],
      "execution_count": null,
      "outputs": []
    },
    {
      "cell_type": "code",
      "metadata": {
        "id": "xSYKxfzWkORJ"
      },
      "source": [
        "# Modelos de Machine Learning\n",
        "from sklearn.ensemble import RandomForestClassifier\n",
        "from sklearn.neighbors import KNeighborsClassifier\n",
        "\n",
        "# Outras bibliotecas do sklearn\n",
        "from sklearn.decomposition import PCA\n",
        "from sklearn.model_selection import GridSearchCV\n",
        "from sklearn.model_selection import train_test_split\n",
        "from sklearn import metrics\n",
        "from sklearn.metrics import classification_report, confusion_matrix\n",
        "from mlxtend.plotting import plot_confusion_matrix"
      ],
      "execution_count": null,
      "outputs": []
    },
    {
      "cell_type": "code",
      "metadata": {
        "id": "0x6nXnTbkORJ",
        "outputId": "6e2d7c81-4b12-4593-9700-2c8695e4874b"
      },
      "source": [
        "# Versões dos pacotes usados neste jupyter notebook\n",
        "%reload_ext watermark\n",
        "%watermark -a \"Trabalho Prático 03 - Rodrigo\" --iversions"
      ],
      "execution_count": null,
      "outputs": [
        {
          "output_type": "stream",
          "text": [
            "platform   1.0.8\n",
            "matplotlib 3.2.1\n",
            "numpy      1.18.2\n",
            "seaborn    0.10.0\n",
            "pandas     0.25.3\n",
            "plotly     4.6.0\n",
            "py4j       0.10.7\n",
            "Trabalho Prático 03 - Rodrigo\n"
          ],
          "name": "stdout"
        }
      ]
    },
    {
      "cell_type": "markdown",
      "metadata": {
        "id": "p6ajiOAVkORK"
      },
      "source": [
        "## Carregar o dataset IRIS"
      ]
    },
    {
      "cell_type": "code",
      "metadata": {
        "id": "dEJGTRawkORK",
        "outputId": "cf0f0491-6021-4f6d-d8ee-c016d59154ac"
      },
      "source": [
        "iris = datasets.load_iris()\n",
        "\n",
        "data = pd.DataFrame({\n",
        "    'sepal_length':iris.data[:,0],\n",
        "    'sepal_width' :iris.data[:,1],\n",
        "    'species'     :iris.target\n",
        "})\n",
        "\n",
        "# Visualizando o shape do dataset (150 linhas x 3 colunas)\n",
        "print(data.shape)\n",
        "\n",
        "# Verificando os tipos de dados\n",
        "data.info()\n",
        "\n",
        "# Visualizando as primeiras linhas do dataset\n",
        "data.head()"
      ],
      "execution_count": null,
      "outputs": [
        {
          "output_type": "stream",
          "text": [
            "(150, 3)\n",
            "<class 'pandas.core.frame.DataFrame'>\n",
            "RangeIndex: 150 entries, 0 to 149\n",
            "Data columns (total 3 columns):\n",
            "sepal_length    150 non-null float64\n",
            "sepal_width     150 non-null float64\n",
            "species         150 non-null int64\n",
            "dtypes: float64(2), int64(1)\n",
            "memory usage: 3.6 KB\n"
          ],
          "name": "stdout"
        },
        {
          "output_type": "execute_result",
          "data": {
            "text/html": [
              "<div>\n",
              "<style scoped>\n",
              "    .dataframe tbody tr th:only-of-type {\n",
              "        vertical-align: middle;\n",
              "    }\n",
              "\n",
              "    .dataframe tbody tr th {\n",
              "        vertical-align: top;\n",
              "    }\n",
              "\n",
              "    .dataframe thead th {\n",
              "        text-align: right;\n",
              "    }\n",
              "</style>\n",
              "<table border=\"1\" class=\"dataframe\">\n",
              "  <thead>\n",
              "    <tr style=\"text-align: right;\">\n",
              "      <th></th>\n",
              "      <th>sepal_length</th>\n",
              "      <th>sepal_width</th>\n",
              "      <th>species</th>\n",
              "    </tr>\n",
              "  </thead>\n",
              "  <tbody>\n",
              "    <tr>\n",
              "      <th>0</th>\n",
              "      <td>5.1</td>\n",
              "      <td>3.5</td>\n",
              "      <td>0</td>\n",
              "    </tr>\n",
              "    <tr>\n",
              "      <th>1</th>\n",
              "      <td>4.9</td>\n",
              "      <td>3.0</td>\n",
              "      <td>0</td>\n",
              "    </tr>\n",
              "    <tr>\n",
              "      <th>2</th>\n",
              "      <td>4.7</td>\n",
              "      <td>3.2</td>\n",
              "      <td>0</td>\n",
              "    </tr>\n",
              "    <tr>\n",
              "      <th>3</th>\n",
              "      <td>4.6</td>\n",
              "      <td>3.1</td>\n",
              "      <td>0</td>\n",
              "    </tr>\n",
              "    <tr>\n",
              "      <th>4</th>\n",
              "      <td>5.0</td>\n",
              "      <td>3.6</td>\n",
              "      <td>0</td>\n",
              "    </tr>\n",
              "  </tbody>\n",
              "</table>\n",
              "</div>"
            ],
            "text/plain": [
              "   sepal_length  sepal_width  species\n",
              "0           5.1          3.5        0\n",
              "1           4.9          3.0        0\n",
              "2           4.7          3.2        0\n",
              "3           4.6          3.1        0\n",
              "4           5.0          3.6        0"
            ]
          },
          "metadata": {
            "tags": []
          },
          "execution_count": 61
        }
      ]
    },
    {
      "cell_type": "markdown",
      "metadata": {
        "id": "tXIXg-p3kORK"
      },
      "source": [
        "## Analisando a feature: SPECIES"
      ]
    },
    {
      "cell_type": "code",
      "metadata": {
        "id": "O6hqwWpakORK",
        "outputId": "10cb5ee5-979c-478e-8cdb-c81489e32f8c"
      },
      "source": [
        "# Verificar as classes de especies no dataset\n",
        "print(iris.target_names)"
      ],
      "execution_count": null,
      "outputs": [
        {
          "output_type": "stream",
          "text": [
            "['setosa' 'versicolor' 'virginica']\n"
          ],
          "name": "stdout"
        }
      ]
    },
    {
      "cell_type": "markdown",
      "metadata": {
        "id": "ZtlLywxDkORK"
      },
      "source": [
        "## Criação e Validação dos Modelos de Machine Learning"
      ]
    },
    {
      "cell_type": "markdown",
      "metadata": {
        "id": "7VgGuScskORK"
      },
      "source": [
        "### Preparando os dados para treinamento do baseline"
      ]
    },
    {
      "cell_type": "code",
      "metadata": {
        "id": "OlDH0bQ2kORK"
      },
      "source": [
        "# Vamos armazenar 'target' no rótulo (y) e as duas primeiras colunas do dataset em X\n",
        "X = iris.data[:, :2]\n",
        "y = iris.target\n",
        "\n",
        "# Split do dataset em treino e teste: 70% treino and 30% teste\n",
        "X_train, X_test, y_train, y_test = train_test_split(X, y, test_size=0.3)"
      ],
      "execution_count": null,
      "outputs": []
    },
    {
      "cell_type": "markdown",
      "metadata": {
        "id": "72KafDwSkORL"
      },
      "source": [
        "## Realizando o treinamento usando Random Forest Classifier"
      ]
    },
    {
      "cell_type": "code",
      "metadata": {
        "id": "0-UQYw0ZkORL",
        "outputId": "00dc3a59-cad1-47f8-aa33-387b7deeae1d"
      },
      "source": [
        "# Criando a instancia do modelo RF\n",
        "model_rf = RandomForestClassifier(n_estimators=100)\n",
        "\n",
        "# Realizando o fit do modelo com os dados de treino\n",
        "model_rf.fit(X_train, y_train)\n",
        "\n",
        "# Realizando as previsões com os dados de teste\n",
        "y_pred = model_rf.predict(X_test)\n",
        "\n",
        "# Verificando o desempenho do modelo usando a metrica Accuracy\n",
        "print(\"Acurácia:\",metrics.accuracy_score(y_test, y_pred))"
      ],
      "execution_count": null,
      "outputs": [
        {
          "output_type": "execute_result",
          "data": {
            "text/plain": [
              "RandomForestClassifier(bootstrap=True, ccp_alpha=0.0, class_weight=None,\n",
              "                       criterion='gini', max_depth=None, max_features='auto',\n",
              "                       max_leaf_nodes=None, max_samples=None,\n",
              "                       min_impurity_decrease=0.0, min_impurity_split=None,\n",
              "                       min_samples_leaf=1, min_samples_split=2,\n",
              "                       min_weight_fraction_leaf=0.0, n_estimators=100,\n",
              "                       n_jobs=None, oob_score=False, random_state=None,\n",
              "                       verbose=0, warm_start=False)"
            ]
          },
          "metadata": {
            "tags": []
          },
          "execution_count": 7
        },
        {
          "output_type": "stream",
          "text": [
            "Acurácia: 0.6666666666666666\n"
          ],
          "name": "stdout"
        }
      ]
    },
    {
      "cell_type": "code",
      "metadata": {
        "id": "_t32qEowkORL",
        "outputId": "9bdaa138-c274-4500-c190-3b49c0c4c3b1"
      },
      "source": [
        "# Realizando um simples teste como novos dados\n",
        "novo_dado = model_rf.predict([[5.8, 3.5]])[0]\n",
        "\n",
        "# Verificando qual a espécie desse novo dado\n",
        "iris.target_names[novo_dado]"
      ],
      "execution_count": null,
      "outputs": [
        {
          "output_type": "execute_result",
          "data": {
            "text/plain": [
              "'setosa'"
            ]
          },
          "metadata": {
            "tags": []
          },
          "execution_count": 8
        }
      ]
    },
    {
      "cell_type": "markdown",
      "metadata": {
        "id": "zaTtQCHNkORL"
      },
      "source": [
        "## Realizando o treinamento usando Random Forest Classifier com GridSearchCV"
      ]
    },
    {
      "cell_type": "code",
      "metadata": {
        "scrolled": false,
        "id": "cNexbpyTkORL",
        "outputId": "f6ae5b65-d586-4afe-a693-180946957100"
      },
      "source": [
        "params = {'n_estimators': (5, 300)}\n",
        "\n",
        "grid_rf = GridSearchCV(RandomForestClassifier(), params, cv=10, n_jobs=-1, scoring='accuracy')\n",
        "grid_rf.fit(X, y)\n",
        "grid_rf.best_score_\n",
        "grid_rf.best_params_\n",
        "\n",
        "# Realizando as previsões com os dados de teste\n",
        "y_pred_ot = grid_rf.predict(X_test)\n",
        "\n",
        "# Verificando o desempenho do modelo usando a metrica Accuracy\n",
        "print(\"Acurácia:\",metrics.accuracy_score(y_test, y_pred_ot))"
      ],
      "execution_count": null,
      "outputs": [
        {
          "output_type": "execute_result",
          "data": {
            "text/plain": [
              "GridSearchCV(cv=10, error_score=nan,\n",
              "             estimator=RandomForestClassifier(bootstrap=True, ccp_alpha=0.0,\n",
              "                                              class_weight=None,\n",
              "                                              criterion='gini', max_depth=None,\n",
              "                                              max_features='auto',\n",
              "                                              max_leaf_nodes=None,\n",
              "                                              max_samples=None,\n",
              "                                              min_impurity_decrease=0.0,\n",
              "                                              min_impurity_split=None,\n",
              "                                              min_samples_leaf=1,\n",
              "                                              min_samples_split=2,\n",
              "                                              min_weight_fraction_leaf=0.0,\n",
              "                                              n_estimators=100, n_jobs=None,\n",
              "                                              oob_score=False,\n",
              "                                              random_state=None, verbose=0,\n",
              "                                              warm_start=False),\n",
              "             iid='deprecated', n_jobs=-1, param_grid={'n_estimators': (5, 300)},\n",
              "             pre_dispatch='2*n_jobs', refit=True, return_train_score=False,\n",
              "             scoring='accuracy', verbose=0)"
            ]
          },
          "metadata": {
            "tags": []
          },
          "execution_count": 41
        },
        {
          "output_type": "execute_result",
          "data": {
            "text/plain": [
              "0.72"
            ]
          },
          "metadata": {
            "tags": []
          },
          "execution_count": 41
        },
        {
          "output_type": "execute_result",
          "data": {
            "text/plain": [
              "{'n_estimators': 300}"
            ]
          },
          "metadata": {
            "tags": []
          },
          "execution_count": 41
        },
        {
          "output_type": "stream",
          "text": [
            "Acurácia: 0.8888888888888888\n"
          ],
          "name": "stdout"
        }
      ]
    },
    {
      "cell_type": "markdown",
      "metadata": {
        "id": "RgxlVgiDkORL"
      },
      "source": [
        "### Verificando o desempenho do modelo"
      ]
    },
    {
      "cell_type": "code",
      "metadata": {
        "id": "DkojXM9jkORL",
        "outputId": "42a2c94c-2feb-4746-ade0-7e83e51d48a1"
      },
      "source": [
        "# Contrução da matriz de confusão\n",
        "matriz_confusao = confusion_matrix(y_test, y_pred_ot)\n",
        "print(matriz_confusao)\n",
        "\n",
        "# Realiza o plot da matriz de confusão\n",
        "fig, ax = plot_confusion_matrix(conf_mat=matriz_confusao)\n",
        "plt.show()"
      ],
      "execution_count": null,
      "outputs": [
        {
          "output_type": "stream",
          "text": [
            "[[13  0  0]\n",
            " [ 0 11  5]\n",
            " [ 0  0 16]]\n"
          ],
          "name": "stdout"
        },
        {
          "output_type": "display_data",
          "data": {
            "image/png": "[encoded data removed]",
            "text/plain": [
              "<Figure size 432x288 with 1 Axes>"
            ]
          },
          "metadata": {
            "tags": [],
            "needs_background": "light"
          }
        }
      ]
    },
    {
      "cell_type": "markdown",
      "metadata": {
        "id": "zSmr5L1KkORL"
      },
      "source": [
        "## Realizando o treinamento usando KNeighborsClassifier"
      ]
    },
    {
      "cell_type": "code",
      "metadata": {
        "id": "VKVxXLW9kORL",
        "outputId": "382294cf-14a9-4393-8a15-577b25597228"
      },
      "source": [
        "# Criando a instancia do modelo KNN\n",
        "model_knn = KNeighborsClassifier(n_neighbors=5)\n",
        "\n",
        "# Realizando o fit do modelo com os dados de treino\n",
        "model_knn.fit(X_train, y_train)\n",
        "\n",
        "# Realizando as previsões com os dados de teste\n",
        "y_pred = model_knn.predict(X_test)\n",
        "\n",
        "# Verificando o desempenho do modelo usando a metrica Accuracy\n",
        "print(\"Acurácia:\",metrics.accuracy_score(y_test, y_pred))"
      ],
      "execution_count": null,
      "outputs": [
        {
          "output_type": "execute_result",
          "data": {
            "text/plain": [
              "KNeighborsClassifier(algorithm='auto', leaf_size=30, metric='minkowski',\n",
              "                     metric_params=None, n_jobs=None, n_neighbors=5, p=2,\n",
              "                     weights='uniform')"
            ]
          },
          "metadata": {
            "tags": []
          },
          "execution_count": 43
        },
        {
          "output_type": "stream",
          "text": [
            "Acurácia: 0.6666666666666666\n"
          ],
          "name": "stdout"
        }
      ]
    },
    {
      "cell_type": "markdown",
      "metadata": {
        "id": "9yR9-UoKkORL"
      },
      "source": [
        "## Realizando o treinamento usando KNeighborsClassifier com GridSearchCV"
      ]
    },
    {
      "cell_type": "code",
      "metadata": {
        "id": "VUYxwILGkORL",
        "outputId": "81086409-42ae-40d1-ac0d-375c69027045"
      },
      "source": [
        "params = {'n_neighbors': range(1,30), \n",
        "          'weights'    : [\"uniform\", \"distance\"]}\n",
        "\n",
        "grid_knn = GridSearchCV(KNeighborsClassifier(), params, cv=10, scoring='accuracy')\n",
        "grid_knn.fit(X, y)\n",
        "\n",
        "print (grid_knn.best_score_)\n",
        "print (grid_knn.best_params_)\n",
        "print (grid_knn.best_estimator_)\n",
        "\n",
        "# Realizando as previsões com os dados de teste\n",
        "y_pred_knn_ot = grid.predict(X_test)\n",
        "\n",
        "# Verificando o desempenho do modelo usando a metrica Accuracy\n",
        "print(\"Acurácia:\",metrics.accuracy_score(y_test, y_pred_knn_ot))"
      ],
      "execution_count": null,
      "outputs": [
        {
          "output_type": "execute_result",
          "data": {
            "text/plain": [
              "GridSearchCV(cv=10, error_score=nan,\n",
              "             estimator=KNeighborsClassifier(algorithm='auto', leaf_size=30,\n",
              "                                            metric='minkowski',\n",
              "                                            metric_params=None, n_jobs=None,\n",
              "                                            n_neighbors=5, p=2,\n",
              "                                            weights='uniform'),\n",
              "             iid='deprecated', n_jobs=None,\n",
              "             param_grid={'n_neighbors': range(1, 30),\n",
              "                         'weights': ['uniform', 'distance']},\n",
              "             pre_dispatch='2*n_jobs', refit=True, return_train_score=False,\n",
              "             scoring='accuracy', verbose=0)"
            ]
          },
          "metadata": {
            "tags": []
          },
          "execution_count": 53
        },
        {
          "output_type": "stream",
          "text": [
            "0.8000000000000002\n",
            "{'n_neighbors': 23, 'weights': 'uniform'}\n",
            "KNeighborsClassifier(algorithm='auto', leaf_size=30, metric='minkowski',\n",
            "                     metric_params=None, n_jobs=None, n_neighbors=23, p=2,\n",
            "                     weights='uniform')\n",
            "Acurácia: 0.8\n"
          ],
          "name": "stdout"
        }
      ]
    },
    {
      "cell_type": "markdown",
      "metadata": {
        "id": "PA4a1mCbkORL"
      },
      "source": [
        "### Verificando o desempenho do modelo"
      ]
    },
    {
      "cell_type": "code",
      "metadata": {
        "id": "EAxnvXibkORL",
        "outputId": "5bdbdfd7-cb18-4a19-e1c1-157514459782"
      },
      "source": [
        "# Contrução da matriz de confusão\n",
        "matriz_confusao_knn = confusion_matrix(y_test, y_pred_knn_ot)\n",
        "print(matriz_confusao)\n",
        "\n",
        "# Realiza o plot da matriz de confusão\n",
        "fig, ax = plot_confusion_matrix(conf_mat=matriz_confusao_knn)\n",
        "plt.show()"
      ],
      "execution_count": null,
      "outputs": [
        {
          "output_type": "stream",
          "text": [
            "[[13  0  0]\n",
            " [ 0 11  5]\n",
            " [ 0  0 16]]\n"
          ],
          "name": "stdout"
        },
        {
          "output_type": "display_data",
          "data": {
            "image/png": "[encoded data removed]",
            "text/plain": [
              "<Figure size 432x288 with 1 Axes>"
            ]
          },
          "metadata": {
            "tags": [],
            "needs_background": "light"
          }
        }
      ]
    }
  ]
}